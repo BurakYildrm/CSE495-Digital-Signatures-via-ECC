{
 "cells": [
  {
   "cell_type": "markdown",
   "id": "b53efdc9-e66c-48bf-ae79-af255bcf908a",
   "metadata": {},
   "source": [
    "<!-- @format -->\n",
    "\n",
    "# Importing Libraries\n"
   ]
  },
  {
   "cell_type": "code",
   "execution_count": 1,
   "id": "ff449d7d-44a1-44c7-a970-8052637c38ee",
   "metadata": {},
   "outputs": [],
   "source": [
    "import numpy as np\n",
    "import random\n",
    "import math\n",
    "import hashlib\n",
    "import secrets\n",
    "from sympy import nextprime, isprime, sqrt_mod, isprime\n",
    "import subprocess"
   ]
  },
  {
   "cell_type": "markdown",
   "id": "15698276-2d52-498a-8c68-849dc1bc0ee8",
   "metadata": {},
   "source": [
    "<!-- @format -->\n",
    "\n",
    "# Functions\n",
    "\n",
    "## 1 - Greatest Common Divisor\n",
    "\n",
    "The greatest common divisor of $a$ and $b$ is calculated via Extended Euclidean Algorithm.\n"
   ]
  },
  {
   "cell_type": "code",
   "execution_count": 2,
   "id": "8cfbab6f-8ceb-4e42-bd2d-43bb33ef84d9",
   "metadata": {},
   "outputs": [],
   "source": [
    "def gcd(a, b):\n",
    "    s0, s1 = 1, 0\n",
    "    t0, t1 = 0, 1\n",
    "    while b:\n",
    "        q = a // b\n",
    "        s1, s0 = s0 - q * s1, s1\n",
    "        t1, t0 = t0 - q * t1, t1\n",
    "        a, b = b, a % b\n",
    "    return a, s0, t0"
   ]
  },
  {
   "cell_type": "markdown",
   "id": "5ad78e0c-8979-49e7-bc61-efdbdf9b2c24",
   "metadata": {},
   "source": [
    "<!-- @format -->\n",
    "\n",
    "## 2- Modulo Inverse\n",
    "\n",
    "The modulo inverse of $a$ modulo $m$ is denoted as $a^{-1}$ and defined as\n",
    "\\begin{equation*}\n",
    "a \\cdot a^{-1} \\equiv 1 \\mod{m} \\;\\Longleftrightarrow\\; \\text{gcd}(a, m) = 1.\n",
    "\\end{equation*}\n"
   ]
  },
  {
   "cell_type": "code",
   "execution_count": 3,
   "id": "0c407c5a-6d47-48ff-847d-74e88d0d42e7",
   "metadata": {},
   "outputs": [],
   "source": [
    "def modulo_inverse(a, m):\n",
    "    (gcd_, s, t) = gcd(a, m)\n",
    "    return s % m if gcd_ == 1 else 0"
   ]
  },
  {
   "cell_type": "markdown",
   "id": "ff89306e957e9668",
   "metadata": {},
   "source": [
    "<!-- @format -->\n",
    "\n",
    "## 3 - Point Addition\n",
    "\n",
    "The addition of two points $P = (x_1, y_1)$ and $Q = (x_2, y_2)$ on an elliptic curve $E$ defined over the finite field $\\mathbb{F}_p$ is defined as\n",
    "\n",
    "-   if either $P = \\mathcal{O}$ or $Q = \\mathcal{O}$, then $P + Q = P$ or $P + Q = Q$, respectively.\n",
    "-   if $P = -Q$, then $P + Q = \\mathcal{O}$.\n",
    "-   if $P = Q$, then $P + Q = (x_3, y_3)$, where\n",
    "    \\begin{equation*}\n",
    "    x_3 = \\left(\\frac{3x_1^2 + a}{2y_1}\\right)^2 - 2x_1 \\quad \\text{and} \\quad y_3 = \\left(\\frac{3x_1^2 + a}{2y_1}\\right)(x_1 - x_3) - y_1.\n",
    "    \\end{equation*}\n",
    "-   if $P \\neq  \\pm Q$, then $P + Q = (x_3, y_3)$, where\n",
    "    \\begin{equation*}\n",
    "    x_3 = \\left(\\frac{y_2 - y_1}{x_2 - x_1}\\right)^2 - x_1 - x_2 \\quad \\text{and} \\quad y_3 = \\left(\\frac{y_2 - y_1}{x_2 - x_1}\\right)(x_1 - x_3) - y_1.\n",
    "    \\end{equation*}\n"
   ]
  },
  {
   "cell_type": "code",
   "execution_count": 4,
   "id": "ae66a6e3c5ec8ba9",
   "metadata": {},
   "outputs": [],
   "source": [
    "def point_addition(x1, y1, x2, y2, a, p):\n",
    "    if x1 == 0 and y1 == 0:\n",
    "        return x2, y2\n",
    "    elif x2 == 0 and y2 == 0:\n",
    "        return x1, y1\n",
    "    elif x1 == x2 and y1 == -y2 % p:\n",
    "        return 0, 0\n",
    "    elif x1 == x2 and y1 == y2:\n",
    "        s = (3 * x1**2 + a) * modulo_inverse(2 * y1, p)\n",
    "        x3 = s**2 - 2 * x1\n",
    "        y3 = s * (x1 - x3) - y1\n",
    "    else:\n",
    "        s = ((y2 - y1) * modulo_inverse(x2 - x1, p)) % p\n",
    "        x3 = s**2 - x1 - x2\n",
    "        y3 = s * (x1 - x3) - y1\n",
    "\n",
    "    return x3 % p, y3 % p"
   ]
  },
  {
   "cell_type": "markdown",
   "id": "e45bb20f90dd6a28",
   "metadata": {},
   "source": [
    "<!-- @format -->\n",
    "\n",
    "## 4 - Scalar Multiplication\n",
    "\n",
    "The scalar multiplication of a point $P = (x, y)$ on an elliptic curve $E$ defined over the finite field $\\mathbb{F}_p$ by an integer $k$ is defined as\n",
    "\\begin{equation*}\n",
    "kP = \\underbrace{P + P + \\ldots + P}\\_{k \\ \\text{times}} \\ \\ \\text{for} \\ k > 0, \\ \\text{and} \\ 0P = \\mathcal{O}.\n",
    "\\end{equation*}\n"
   ]
  },
  {
   "cell_type": "code",
   "execution_count": 5,
   "id": "91c35eec4a2aa21d",
   "metadata": {},
   "outputs": [],
   "source": [
    "def scalar_multiplication(x, y, k, a, p):\n",
    "    if k == 0:\n",
    "        return 0, 0\n",
    "    if k == 1:\n",
    "        return x, y\n",
    "\n",
    "    qx, qy = 0, 0\n",
    "    k = format(k, \"b\")\n",
    "\n",
    "    for bit in k:\n",
    "        qx, qy = point_addition(qx, qy, qx, qy, a, p)\n",
    "        if int(bit) & 1:\n",
    "            qx, qy = point_addition(qx, qy, x, y, a, p)\n",
    "\n",
    "    return qx, qy"
   ]
  },
  {
   "cell_type": "markdown",
   "id": "ffc04bb0a27e6b13",
   "metadata": {},
   "source": [
    "<!-- @format -->\n",
    "\n",
    "## 5 - Is On Curve\n",
    "\n",
    "A point $P = (x, y)$ is on an elliptic curve $E$ defined over the finite field $\\mathbb{F}_p$ if and only if\n",
    "\\begin{equation*}\n",
    "y^2 \\equiv x^3 + ax + b \\mod{p}.\n",
    "\\end{equation*}\n"
   ]
  },
  {
   "cell_type": "code",
   "execution_count": 6,
   "id": "4b0c40cf15ab82a7",
   "metadata": {},
   "outputs": [],
   "source": [
    "def is_on_curve(x, y, a, b, p):\n",
    "    return (y**2 - x**3 - a * x - b) % p == 0"
   ]
  },
  {
   "cell_type": "markdown",
   "id": "af266aebe1266a4b",
   "metadata": {},
   "source": [
    "<!-- @format -->\n",
    "\n",
    "## 6 - Is Curve Valid\n",
    "\n",
    "An elliptic curve $E$ defined over the finite field $\\mathbb{F}_p$ is valid if and only if\n",
    "\\begin{equation*}\n",
    "4a^3 + 27b^2 \\not\\equiv 0 \\mod{p}.\n",
    "\\end{equation*}\n"
   ]
  },
  {
   "cell_type": "code",
   "execution_count": 7,
   "id": "f426c366b7c36359",
   "metadata": {},
   "outputs": [],
   "source": [
    "def is_curve_valid(a, b, p):\n",
    "    return (4 * a**3 + 27 * b**2) % p != 0"
   ]
  },
  {
   "cell_type": "markdown",
   "id": "8e6ca5ef3e09762f",
   "metadata": {},
   "source": [
    "<!-- @format -->\n",
    "\n",
    "## 7 - Order Of A Point\n",
    "\n",
    "The order of a point $P = (x, y)$ on an elliptic curve $E$ defined over the finite field $\\mathbb{F}_p$ is defined as the smallest positive integer $k$ such that\n",
    "\\begin{equation*}\n",
    "kP = \\mathcal{O}.\n",
    "\\end{equation*}\n"
   ]
  },
  {
   "cell_type": "code",
   "execution_count": 8,
   "id": "edca00fec3912259",
   "metadata": {},
   "outputs": [],
   "source": [
    "def order_of_point(x, y, a, b, p):\n",
    "    try:\n",
    "        result = subprocess.run(\n",
    "            [\n",
    "                \"sage\",\n",
    "                \"utils.sage\",\n",
    "                str(p),\n",
    "                str(a),\n",
    "                str(b),\n",
    "                \"-x\",\n",
    "                str(x),\n",
    "                \"-y\",\n",
    "                str(y),\n",
    "                \"-o\",\n",
    "            ],\n",
    "            stdout=subprocess.PIPE,\n",
    "        )\n",
    "        return int(result.stdout.decode(\"utf-8\"))\n",
    "    except:\n",
    "        return 0"
   ]
  },
  {
   "cell_type": "markdown",
   "id": "e7df8627176455ce",
   "metadata": {},
   "source": [
    "<!-- @format -->\n",
    "\n",
    "## 8 - Number Of Points\n",
    "\n",
    "The number of points function returns the number of points on an elliptic curve $E$ defined over the finite field $\\mathbb{F}_p$.\n"
   ]
  },
  {
   "cell_type": "code",
   "execution_count": 9,
   "id": "d36a795ff3e7e126",
   "metadata": {},
   "outputs": [],
   "source": [
    "def number_of_points(a, b, p):\n",
    "    try:\n",
    "        result = subprocess.run(\n",
    "            [\"sage\", \"utils.sage\", str(p), str(a), str(b), \"-c\"], stdout=subprocess.PIPE\n",
    "        )\n",
    "        return int(result.stdout.decode(\"utf-8\"))\n",
    "    except:\n",
    "        return 0"
   ]
  },
  {
   "cell_type": "markdown",
   "id": "994aaf5bbbc83a72",
   "metadata": {},
   "source": [
    "<!-- @format -->\n",
    "\n",
    "## 9 - Cofactor Of The Curve\n",
    "\n",
    "The cofactor of an elliptic curve $E$ defined over the finite field $\\mathbb{F}_p$ is defined as\n",
    "\\begin{equation*}\n",
    "h = \\frac{\\#E(\\mathbb{F}\\_p)}{n},\n",
    "\\end{equation*}\n",
    "where $n$ is the order of the base point $P$.\n"
   ]
  },
  {
   "cell_type": "code",
   "execution_count": 10,
   "id": "ac59f1edcdf1a660",
   "metadata": {},
   "outputs": [],
   "source": [
    "def cofactor_of_curve(n, N):\n",
    "    cofactor = N // n\n",
    "    return cofactor"
   ]
  },
  {
   "cell_type": "markdown",
   "id": "7b5f7406436fbf52",
   "metadata": {},
   "source": [
    "<!-- @format -->\n",
    "\n",
    "## 10 - Key Generation\n",
    "\n",
    "The key generation function takes elliptic curve public domain parameters and generates a private key $d$ and a public key $Q$.\n"
   ]
  },
  {
   "cell_type": "code",
   "execution_count": 11,
   "id": "93d4091bc908a7c0",
   "metadata": {},
   "outputs": [],
   "source": [
    "def key_generation(a, p, P, n):\n",
    "    d = random.randint(1, n - 1)\n",
    "    qx, qy = scalar_multiplication(P[0], P[1], d, a, p)\n",
    "    return (qx, qy), d"
   ]
  },
  {
   "cell_type": "markdown",
   "id": "48b18f2c77ea9b3b",
   "metadata": {},
   "source": [
    "<!-- @format -->\n",
    "\n",
    "## 11 - ECDSA Signature Generation\n",
    "\n",
    "The ECDSA signature generation function takes a private key $d$, a message $m$, and elliptic curve public domain parameters and generates a signature $(r, s)$.\n"
   ]
  },
  {
   "cell_type": "code",
   "execution_count": 12,
   "id": "9e578556d7c928ac",
   "metadata": {},
   "outputs": [],
   "source": [
    "def ecdsa_sign(a, p, P, n, d, m):\n",
    "    r, s = 0, 0\n",
    "    while r == 0 or s == 0 or modulo_inverse(s, n) == 0:\n",
    "        k = random.randint(1, n - 1)\n",
    "        qx, _ = scalar_multiplication(P[0], P[1], k, a, p)\n",
    "        r = qx % n\n",
    "        if r == 0:\n",
    "            continue\n",
    "        e = hashlib.sha256(m.encode()).hexdigest()\n",
    "        e = int(e, 16)\n",
    "        s = (modulo_inverse(k, n) * (e + d * r)) % n\n",
    "    return (r, s)"
   ]
  },
  {
   "cell_type": "markdown",
   "id": "75368e13c7391ec7",
   "metadata": {},
   "source": [
    "<!-- @format -->\n",
    "\n",
    "## 12 - ECDSA Signature Verification\n",
    "\n",
    "The ECDSA signature verification function takes a public key $Q$, a message $m$, and a signature $(r, s)$ and outputs whether the signature is valid or not.\n"
   ]
  },
  {
   "cell_type": "code",
   "execution_count": 13,
   "id": "1766884045cfc21a",
   "metadata": {},
   "outputs": [],
   "source": [
    "def ecdsa_verify(a, p, P, n, Q, m, r, s):\n",
    "    if r < 1 or r > n - 1:\n",
    "        return False\n",
    "    if s < 1 or s > n - 1:\n",
    "        return False\n",
    "    e = hashlib.sha256(m.encode()).hexdigest()\n",
    "    e = int(e, 16)\n",
    "    w = modulo_inverse(s, n)\n",
    "    u1 = (e * w) % n\n",
    "    u2 = (r * w) % n\n",
    "    qx, qy = point_addition(\n",
    "        *scalar_multiplication(P[0], P[1], u1, a, p),\n",
    "        *scalar_multiplication(Q[0], Q[1], u2, a, p),\n",
    "        a,\n",
    "        p,\n",
    "    )\n",
    "    if qx == 0 and qy == 0:\n",
    "        return False\n",
    "    return r == qx % n"
   ]
  },
  {
   "cell_type": "markdown",
   "id": "7893df8e",
   "metadata": {},
   "source": [
    "<!-- @format -->\n",
    "\n",
    "## 13 - Even Hex\n",
    "\n",
    "The even hex function takes a hexadecimal string and outputs the same string as even length by prepending a zero if the length of the string is odd.\n"
   ]
  },
  {
   "cell_type": "code",
   "execution_count": 14,
   "id": "f8419047",
   "metadata": {},
   "outputs": [],
   "source": [
    "def even_hex(n):\n",
    "    prefix = \"\"\n",
    "\n",
    "    if \"0x\" in n:\n",
    "        n = n[2:]\n",
    "        prefix = \"0x\"\n",
    "\n",
    "    h = n\n",
    "\n",
    "    if len(h) % 2 == 1:\n",
    "        h = prefix + \"0\" + h\n",
    "\n",
    "    return h"
   ]
  },
  {
   "cell_type": "markdown",
   "id": "927dae10",
   "metadata": {},
   "source": [
    "<!-- @format -->\n",
    "\n",
    "## 14 - Find Integer\n",
    "\n",
    "The find integer function takes integers $l$ and $n$ and finds a $(l - n)$-bit long integer $x$ using SHA-1.\n"
   ]
  },
  {
   "cell_type": "code",
   "execution_count": 15,
   "id": "d071a4f0",
   "metadata": {},
   "outputs": [],
   "source": [
    "def find_integer(s, l, n):\n",
    "    v = math.floor((l - 1) / 256)\n",
    "    w = l - 256 * v - n\n",
    "    h = hashlib.sha256(bytearray.fromhex(s)).hexdigest()\n",
    "    h = np.base_repr(int(h, 16), base=2)\n",
    "    h0 = h[-w:]\n",
    "    z = int(s, 16)\n",
    "    h_array = [h0]\n",
    "\n",
    "    for i in range(1, v + 1):\n",
    "        zi = (z + i) % 2**256\n",
    "        si = bytearray.fromhex(even_hex(np.base_repr(zi, base=16)))\n",
    "        hi = hashlib.sha256(si).hexdigest()\n",
    "        hi = np.base_repr(int(hi, 16), base=2)\n",
    "        h_array.append(hi)\n",
    "\n",
    "    return int(\"\".join(h_array), 2)"
   ]
  },
  {
   "cell_type": "markdown",
   "id": "1a717e9d",
   "metadata": {},
   "source": [
    "<!-- @format -->\n",
    "\n",
    "## 15 - Update Seed\n",
    "\n",
    "The update seed function takes a seed $s$ and updates it to $s'$ using modular arithmetic.\n"
   ]
  },
  {
   "cell_type": "code",
   "execution_count": 16,
   "id": "b9c90034",
   "metadata": {},
   "outputs": [],
   "source": [
    "def update_seed(s):\n",
    "    z = int(s, 16)\n",
    "    return even_hex(np.base_repr((z + 1) % 2**256, base=16))"
   ]
  },
  {
   "cell_type": "markdown",
   "id": "bd7e06d1",
   "metadata": {},
   "source": [
    "<!-- @format -->\n",
    "\n",
    "## 16 - Legendre Symbol\n",
    "\n",
    "The Legendre symbol of $a$ modulo $p$ is defined as\n",
    "\\begin{equation*}\n",
    "\\left(\\frac{a}{p}\\right) = a^{\\frac{p - 1}{2}} \\mod{p}.\n",
    "\\end{equation*}\n"
   ]
  },
  {
   "cell_type": "code",
   "execution_count": 17,
   "id": "d3608dc6",
   "metadata": {},
   "outputs": [],
   "source": [
    "def legendre_symbol(a, p):\n",
    "    return pow(a, (p - 1) // 2, p)"
   ]
  },
  {
   "cell_type": "markdown",
   "id": "dd03e875",
   "metadata": {},
   "source": [
    "<!-- @format -->\n",
    "\n",
    "## 17 - Is Fourth Power Residue\n",
    "\n",
    "An integer $a$ is a fourth power residue modulo $p$ if and only if\n",
    "\\begin{equation*}\n",
    "\\left(\\frac{a}{p}\\right) = 1 \\quad \\text{and} \\quad a^{\\frac{p - 1}{4}} \\equiv 1 \\mod{p}.\n",
    "\\end{equation*}\n"
   ]
  },
  {
   "cell_type": "code",
   "execution_count": 29,
   "id": "2b1cc72a",
   "metadata": {},
   "outputs": [],
   "source": [
    "def is_fourth_power_residue(A, p):\n",
    "    a = (-3 * modulo_inverse(A, p)) % p\n",
    "    f = p - 1\n",
    "    k = f // (4 if f % 4 == 0 else 2)\n",
    "    return pow(a, k, p) == 1"
   ]
  },
  {
   "cell_type": "markdown",
   "id": "e3ff31b3",
   "metadata": {},
   "source": [
    "<!-- @format -->\n",
    "\n",
    "## 17 - Generate Prime Number\n",
    "\n",
    "The generate prime number function generates a random prime number $p$ of a given bit length.\n"
   ]
  },
  {
   "cell_type": "code",
   "execution_count": 19,
   "id": "6d980f77",
   "metadata": {},
   "outputs": [],
   "source": [
    "def generate_prime(l, seed=None):\n",
    "    s = seed if seed else secrets.token_hex(20)\n",
    "\n",
    "    while True:\n",
    "        c = find_integer(s, l, 0)\n",
    "\n",
    "        if isprime(c) and c % 4 == 3:\n",
    "            p = c\n",
    "        else:\n",
    "            i = 1\n",
    "            while True:\n",
    "                p = nextprime(c, i)\n",
    "                if p % 4 == 3:\n",
    "                    break\n",
    "                i += 1\n",
    "\n",
    "        if 2 ** (l - 1) <= p <= 2**l - 1:\n",
    "            return p\n",
    "\n",
    "        s = update_seed(s)"
   ]
  },
  {
   "cell_type": "markdown",
   "id": "0af4de50",
   "metadata": {},
   "source": [
    "<!-- @format -->\n",
    "\n",
    "## 18 - Generate Elliptic Curve\n",
    "\n",
    "The generate elliptic curve function takes a prime number $p$ and generates a random elliptic curve $E$ defined over the finite field $\\mathbb{F}_p$ and a base point $P$ on the curve.\n"
   ]
  },
  {
   "cell_type": "code",
   "execution_count": 20,
   "id": "f20310f1",
   "metadata": {},
   "outputs": [],
   "source": [
    "def generate_curve(p, seed=None):\n",
    "    s = seed if seed else secrets.token_hex(20)\n",
    "\n",
    "    while True:\n",
    "        a = find_integer(s, p.bit_length(), 1)\n",
    "\n",
    "        if not is_fourth_power_residue(a, p):\n",
    "            s = update_seed(s)\n",
    "            continue\n",
    "\n",
    "        s = update_seed(s)\n",
    "\n",
    "        while True:\n",
    "            b = find_integer(s, p.bit_length(), 1)\n",
    "            if pow(b, (p - 1) // 2, p) == 1:\n",
    "                s = update_seed(s)\n",
    "                continue\n",
    "            break\n",
    "\n",
    "        if not is_curve_valid(a, b, p):\n",
    "            s = update_seed(s)\n",
    "            continue\n",
    "\n",
    "        s = update_seed(s)\n",
    "        k = find_integer(s, p.bit_length(), 1)\n",
    "\n",
    "        for i in range(p):\n",
    "            x = i\n",
    "            rhs = pow(x, 3) + a * x + b\n",
    "            if legendre_symbol(rhs, p) == 1:\n",
    "                y_values = sqrt_mod(rhs, p, all_roots=True)\n",
    "                break\n",
    "\n",
    "        points = [(x, y) for y in y_values]\n",
    "        P = scalar_multiplication(*(random.choice(points)), k, a, p)\n",
    "        return a, b, P"
   ]
  },
  {
   "cell_type": "markdown",
   "id": "d4a4a2e2db10731a",
   "metadata": {},
   "source": [
    "<!-- @format -->\n",
    "\n",
    "# Main Program\n"
   ]
  },
  {
   "cell_type": "code",
   "execution_count": 31,
   "id": "791eefe2d0cad08f",
   "metadata": {},
   "outputs": [
    {
     "name": "stdout",
     "output_type": "stream",
     "text": [
      "Elliptic Curve Public Domain Parameters\n",
      "--------------------------------------------------\n",
      "Curve: y^2 = x^3 + 369418060276964572701710564349681860536433030190x + 217958547323320411081979073871532299660744119247 mod 1124102222762367294231581020193451298170272483263 (Valid)\n",
      "Base point: (45449531919476556096386997901311655575098027247, 755322846667935462826379310779939648056560323697)\n",
      "Order of base point: 140512777845295911778947693368915151960028973117\n",
      "Number of points on curve: 1124102222762367294231581546951321215680231784936\n",
      "\n",
      "Key generation\n",
      "--------------------------------------------------\n",
      "Private key: 68822667255812937596407155387785583742409445927\n",
      "Public key: (19079279623995735153317667270818615024821618128, 1087977239646571208878209887960740472439859102874)\n",
      "\n",
      "ECDSA\n",
      "--------------------------------------------------\n",
      "Message: Hello\n",
      "Signature: (97011209971298138876057541259128091530986453933, 55924813801046326936924738230429090439064901560)\n",
      "Signature verification: Accepted\n"
     ]
    }
   ],
   "source": [
    "p = generate_prime(160)\n",
    "a, b, P = generate_curve(p)\n",
    "n = order_of_point(*P, a, b, p)\n",
    "N = number_of_points(a, b, p)\n",
    "\n",
    "print(\"Elliptic Curve Public Domain Parameters\")\n",
    "print(\"{:-<50}\".format(\"\"))\n",
    "print(\n",
    "    \"Curve: y^2 = x^3 + {}x + {} mod {} ({})\".format(\n",
    "        a, b, p, \"Valid\" if is_curve_valid(a, b, p) else \"Invalid\"\n",
    "    )\n",
    ")\n",
    "print(\"Base point: {}\".format(P))\n",
    "print(\"Order of base point: {}\".format(n))\n",
    "print(\"Number of points on curve: {}\".format(N))\n",
    "\n",
    "print(\"\\nKey generation\")\n",
    "print(\"{:-<50}\".format(\"\"))\n",
    "Q, d = key_generation(a, p, P, n)\n",
    "print(\"Private key: {}\".format(d))\n",
    "print(\"Public key: {}\".format(Q))\n",
    "\n",
    "print(\"\\nECDSA\")\n",
    "print(\"{:-<50}\".format(\"\"))\n",
    "message = \"Hello\"\n",
    "print(\"Message: {}\".format(message))\n",
    "r, s = ecdsa_sign(a, p, P, n, d, message)\n",
    "print(\"Signature: ({}, {})\".format(r, s))\n",
    "print(\n",
    "    \"Signature verification: {}\".format(\n",
    "        \"Accepted\" if ecdsa_verify(a, p, P, n, Q, message, r, s) else \"Rejected\"\n",
    "    )\n",
    ")"
   ]
  }
 ],
 "metadata": {
  "kernelspec": {
   "display_name": "Python 3 (ipykernel)",
   "language": "python",
   "name": "python3"
  },
  "language_info": {
   "codemirror_mode": {
    "name": "ipython",
    "version": 3
   },
   "file_extension": ".py",
   "mimetype": "text/x-python",
   "name": "python",
   "nbconvert_exporter": "python",
   "pygments_lexer": "ipython3",
   "version": "3.11.6"
  }
 },
 "nbformat": 4,
 "nbformat_minor": 5
}
